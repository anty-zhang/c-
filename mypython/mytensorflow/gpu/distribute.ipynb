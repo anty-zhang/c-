{
 "cells": [
  {
   "cell_type": "markdown",
   "metadata": {},
   "source": [
    "# TensorFlow创建集群\n",
    "> 通过create_local_server 创建本地集群\n",
    "\n",
    "> 有多个任务时，通过tf.tran.ClusterSpec来指定运行每一个任务的机器\n",
    "\n"
   ]
  },
  {
   "cell_type": "code",
   "execution_count": 1,
   "metadata": {
    "collapsed": false
   },
   "outputs": [
    {
     "name": "stdout",
     "output_type": "stream",
     "text": [
      "Hello, distributed TensorFlow!\n"
     ]
    }
   ],
   "source": [
    "import tensorflow as tf\n",
    "\n",
    "c = tf.constant(\"Hello, distributed TensorFlow!\")\n",
    "\n",
    "# 创建一个本地的TensorFlow集群\n",
    "\n",
    "server = tf.train.Server.create_local_server()\n",
    "\n",
    "# 在集群上创建一个会话\n",
    "with tf.Session(server.target) as sess:\n",
    "    print sess.run(c)"
   ]
  },
  {
   "cell_type": "code",
   "execution_count": null,
   "metadata": {
    "collapsed": true
   },
   "outputs": [],
   "source": [
    "\n",
    "import tensorflow as tf\n",
    "c = tf.constant(\"Hello from server1\")\n",
    "\n",
    "# 生成有两个任务的集群\n",
    "# 一个任务跑在本地2222端口，另一个跑在本地2223端口\n",
    "cluster = tf.train.ClusterSpec({'local': [\"localhost:2222\", \"localhost:2223\"]})\n",
    "\n",
    "# 常用的深度学习模型集群配置方法如下\n",
    "# 其中一个运行任务，一个运行参数\n",
    "# cluster = tf.train.ClusterSpec({'worker': ['tf-worker0:2222', 'tf-worker1:2224'], 'ps:' ['tf-ps0:2222', 'tf-ps1:2223']})\n",
    "\n",
    "# 通过上面生成的集群配置生成server，并通过job_name和task_index指定当前所启动的任务\n",
    "server = tf.train.Server(cluster, job_name='local', task_index=0)\n",
    "\n",
    "# 通过server.target生成会话来使用TensorFlow集群中的资源\n",
    "# 重要：两个任务都在/job:local/replica:0/task:0/cpu:0上计算，\n",
    "# 因此通过tf.train.Server.target生成的会话可以统一管理整个TensorFlow集群中的资源\n",
    "with tf.Session(server.target, config=tf.ConfigProto(log_device_placement=True)) as sess:\n",
    "    print sess.run(c)\n",
    "    server.join()\n"
   ]
  },
  {
   "cell_type": "code",
   "execution_count": null,
   "metadata": {
    "collapsed": true
   },
   "outputs": [],
   "source": [
    "\n",
    "import tensorflow as tf\n",
    "c = tf.constant(\"Hello from server2\")\n",
    "\n",
    "# 生成有两个任务的集群\n",
    "# 一个任务跑在本地2222端口，另一个跑在本地2223端口\n",
    "cluster = tf.train.ClusterSpec({'local': [\"localhost:2222\", \"localhost:2223\"]})\n",
    "\n",
    "# 通过上面生成的集群配置生成server，并通过job_name和task_index指定当前所启动的任务\n",
    "server = tf.train.Server(cluster, job_name='local', task_index=1)\n",
    "\n",
    "# 通过server.target生成会话来使用TensorFlow集群中的资源\n",
    "# 重要：两个任务都在/job:local/replica:0/task:0/cpu:0上计算，\n",
    "# 因此通过tf.train.Server.target生成的会话可以统一管理整个TensorFlow集群中的资源\n",
    "with tf.Session(server.target, config=tf.ConfigProto(log_device_placement=True)) as sess:\n",
    "    print sess.run(c)\n",
    "    server.join()\n"
   ]
  },
  {
   "cell_type": "code",
   "execution_count": null,
   "metadata": {
    "collapsed": true
   },
   "outputs": [],
   "source": []
  }
 ],
 "metadata": {
  "kernelspec": {
   "display_name": "Python 2",
   "language": "python",
   "name": "python2"
  },
  "language_info": {
   "codemirror_mode": {
    "name": "ipython",
    "version": 2
   },
   "file_extension": ".py",
   "mimetype": "text/x-python",
   "name": "python",
   "nbconvert_exporter": "python",
   "pygments_lexer": "ipython2",
   "version": "2.7.10"
  }
 },
 "nbformat": 4,
 "nbformat_minor": 2
}

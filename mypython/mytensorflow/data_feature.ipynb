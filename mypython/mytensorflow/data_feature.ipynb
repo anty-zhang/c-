{
 "cells": [
  {
   "cell_type": "markdown",
   "metadata": {},
   "source": [
    "# 无量纲化\n",
    "\n",
    "> 无量纲化使不同规格的数据转换到同一规格。常见的无量纲化方法有标准化和区间缩放法。** 标准化的前提是特征值服从正态分布 **，标准化后，其转换成标准正态分布。区间缩放法利用了边界值信息，将特征的取值区间缩放到某个特点的范围，例如[0, 1]等\n",
    "\n",
    "## 标准化\n",
    "标准化需要计算特征的均值和标准差，公式表达为：\n",
    "$$ x^{'} = \\frac{x - \\overline{X}}{S} $$\n",
    "\n",
    "```pyton\n",
    "使用preproccessing库的StandardScaler类对数据进行标准化的代码如下\n",
    "from sklearn.preprocessing import StandardScaler\n",
    " \n",
    "#标准化，返回值为标准化后的数据\n",
    "StandardScaler().fit_transform(iris.data)\n",
    "```\n",
    "\n",
    "## 区间缩放\n",
    "\n",
    "区间缩放法的思路有多种，常见的一种为利用两个最值进行缩放，公式表达为\n",
    "\n",
    "$$ x^{'} = \\frac{x-Min} {Max-Min}$$\n",
    "\n",
    "```python\n",
    "from sklearn.preprocessing import MinMaxScaler\n",
    "#区间缩放，返回值为缩放到[0, 1]区间的数据\n",
    "MinMaxScaler().fit_transform(iris.data)\n",
    "```\n",
    "\n",
    "## 标准化和归一化区别\n",
    "\n",
    "简单来说，标准化是依照特征矩阵的列处理数据，其通过求z-score的方法，将样本的特征值转换到同一量纲下。归一化是依照特征矩阵的行处理数据，其目的在于样本向量在点乘运算或其他核函数计算相似性时，拥有统一的标准，也就是说都转化为“单位向量”。\n",
    "\n"
   ]
  }
 ],
 "metadata": {
  "kernelspec": {
   "display_name": "Python 2",
   "language": "python",
   "name": "python2"
  },
  "language_info": {
   "codemirror_mode": {
    "name": "ipython",
    "version": 2
   },
   "file_extension": ".py",
   "mimetype": "text/x-python",
   "name": "python",
   "nbconvert_exporter": "python",
   "pygments_lexer": "ipython2",
   "version": "2.7.10"
  }
 },
 "nbformat": 4,
 "nbformat_minor": 2
}

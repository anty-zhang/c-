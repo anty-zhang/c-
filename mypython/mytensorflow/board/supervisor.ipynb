{
 "cells": [
  {
   "cell_type": "markdown",
   "metadata": {},
   "source": [
    "# 监控指标可视化\n",
    "\n",
    "### 监控指标\n",
    "\n",
    "> EVENTS\n",
    "\n",
    "> IMAGES\n",
    "\n",
    "> AUDIO\n",
    "\n",
    "> HISTOGRAMS\n"
   ]
  },
  {
   "cell_type": "code",
   "execution_count": 1,
   "metadata": {
    "collapsed": false
   },
   "outputs": [
    {
     "name": "stdout",
     "output_type": "stream",
     "text": [
      "Extracting /Users/xxx/work5/tensorflow/mnist/train-images-idx3-ubyte.gz\n",
      "Extracting /Users/xxx/work5/tensorflow/mnist/train-labels-idx1-ubyte.gz\n",
      "Extracting /Users/xxx/work5/tensorflow/mnist/t10k-images-idx3-ubyte.gz\n",
      "Extracting /Users/xxx/work5/tensorflow/mnist/t10k-labels-idx1-ubyte.gz\n"
     ]
    },
    {
     "ename": "SystemExit",
     "evalue": "",
     "output_type": "error",
     "traceback": [
      "An exception has occurred, use %tb to see the full traceback.\n",
      "\u001b[0;31mSystemExit\u001b[0m\n"
     ]
    },
    {
     "name": "stderr",
     "output_type": "stream",
     "text": [
      "/data/env/lib/python2.7/site-packages/IPython/core/interactiveshell.py:2889: UserWarning: To exit: use 'exit', 'quit', or Ctrl-D.\n",
      "  warn(\"To exit: use 'exit', 'quit', or Ctrl-D.\", stacklevel=1)\n"
     ]
    }
   ],
   "source": [
    "import tensorflow as tf\n",
    "from tensorflow.examples.tutorials.mnist import input_data\n",
    "\n",
    "SUMMARY_DIR = \"/data/tmp/supervisor\"\n",
    "BATCH_SIZE = 100\n",
    "TRAIN_STEMPS = 10000\n",
    "\n",
    "# 生成变量监控信息并定义生成监控信息日志的操作\n",
    "# var给出来需要记录的张量\n",
    "# name给出来在可视化结果中显示的图表的名称，这个名称一般与变量名一致\n",
    "def variable_summaries(var, name):\n",
    "    # 将生成监控信息的操作放在同一个命名空间下\n",
    "    with tf.name_scope('summaries'):\n",
    "        # tf.histogram_summary记录张量中元素的取值分布\n",
    "        # 不会立即执行，只有在sess.run明确调用这个操作时，才会真正生成并输出Summary protocol buffer\n",
    "        tf.histogram_summary(name, var)\n",
    "        \n",
    "        # 计算变量的平均值，并定义生成平均值信息日志的操作\n",
    "        # 'mean/' + name，其中mean为命名空间， ／ 时命名空间分隔符\n",
    "        # name则给出当前监控指标属于哪个变量\n",
    "        mean = tf.reduce_mean(var)\n",
    "        tf.scalar_summary('mean/' + name, mean)\n",
    "        \n",
    "        # 计算变量的标准差\n",
    "        stddev = tf.sqrt(tf.reduce_mean(tf.square(var - mean)))\n",
    "        tf.scalar_summary('stddev/' + name, stddev)\n",
    "\n",
    "# 生成一层全链接神经网络\n",
    "def nn_layer(input_tensor, input_dim, output_dim, layer_name, act=tf.nn.relu):\n",
    "    # 将同一层神经网络放在一个统一的命名空间下\n",
    "    with tf.name_scope(layer_name):\n",
    "        # 声明神经网络边上的权重，并调用生成权重监控信息日志\n",
    "        with tf.name_scope('weights'):\n",
    "            weights = tf.Variable(tf.truncated_normal([input_dim, output_dim], stddev=0.1))\n",
    "            variable_summaries(weights, layer_name + '/weights')\n",
    "        \n",
    "        # 声明神经网络的偏置乡，并调用生成权重监控信息日志\n",
    "        with tf.name_scope('biases'):\n",
    "            biases = tf.Variable(tf.constant(0.0, shape=[output_dim]))\n",
    "            variable_summaries(biases, layer_name + 'biases')\n",
    "        \n",
    "        # 记录神经网络输出节点在经过激活函数之前的分布\n",
    "        with tf.name_scope(\"Wx_plus_b\"):\n",
    "            preactivate = tf.matmul(input_tensor, weights) + biases\n",
    "            tf.histogram_summary(layer_name + '/pre_activations', preactivate)\n",
    "        \n",
    "        activations = act(preactivate, name='activation')\n",
    "        \n",
    "        # 记录神经网络输出节点在经过激活函数之后的分布\n",
    "        # 对于layer1， 因为使用了ReLU作为激活函数，所以所有小于0的值都被设置为来0\n",
    "        # 于是在激活函数后的layer1/activations图上的所有的值都是大于0的\n",
    "        # 对于layer2，因为没有使用激活函数，所以layer2/activations和layer2/pre_activations一样\n",
    "        tf.histogram_summary(layer_name + '/activations', activations)\n",
    "        return activations\n",
    "    \n",
    "def main(_):\n",
    "    mnist = input_data.read_data_sets(\"/Users/xxx/work5/tensorflow/mnist\", one_hot=True)\n",
    "    \n",
    "    # 定义输入\n",
    "    with tf.name_scope('input'):\n",
    "        x = tf.placeholder(tf.float32, [None, 784], name='x-input')\n",
    "        y_ = tf.placeholder(tf.float32, [None, 10], name='y-input')\n",
    "    \n",
    "    # 将输入向量还原成图片的像素矩阵\n",
    "    # 通过tf.image_summary 将当前的图片信息写入日志\n",
    "    with tf.name_scope('input_reshape'):\n",
    "        image_shaped_input = tf.reshape(x, [-1, 28, 28, 1])\n",
    "        tf.image_summary('input', image_shaped_input, 10)\n",
    "    \n",
    "    hidden1 = nn_layer(x, 784, 500, 'layer1')\n",
    "    y = nn_layer(hidden1, 500, 10, 'layer2', act=tf.identity)\n",
    "    \n",
    "    # 计算交叉熵，并生成交叉熵监控给日志\n",
    "    with tf.name_scope('cross_entropy'):\n",
    "        cross_entropy = tf.reduce_mean(tf.nn.softmax_cross_entropy_with_logits(logits=y, labels=y_))\n",
    "        tf.scalar_summary('cross entropy', cross_entropy)\n",
    "        \n",
    "    with tf.name_scope('train'):\n",
    "        train_step = tf.train.AdadeltaOptimizer(0.001).minimize(cross_entropy)\n",
    "        \n",
    "    # 计算模型在当前给定数据上的正确率\n",
    "    with tf.name_scope('accuracy'):\n",
    "        with tf.name_scope('correct_prediction'):\n",
    "            correct_prediction = tf.equal(tf.arg_max(y, 1), tf.arg_max(y_, 1))\n",
    "        \n",
    "        with tf.name_scope('accuracy'):\n",
    "            accuracy = tf.reduce_mean(tf.cast(correct_prediction, tf.float32))\n",
    "        \n",
    "        tf.scalar_summary('accuracy', accuracy)\n",
    "    \n",
    "    # tf.merge_all_summaries整理所有的日志生成操作,不需要一一调用\n",
    "    # 在tensorflow中只需要运行这个操作就可以将代码中的定义的所有的日志生成操作执行一次，从而将所有日志写入文件\n",
    "    merged = tf.merge_all_summaries()\n",
    "    \n",
    "    with tf.Session() as sess:\n",
    "        summary_writer = tf.train.SummaryWriter(SUMMARY_DIR, sess.graph)\n",
    "        tf.initialize_all_variables().run()\n",
    "        \n",
    "        for i in range(TRAIN_STEMPS):\n",
    "            xs, ys = mnist.train.next_batch(BATCH_SIZE)\n",
    "            # 运行虚拟烂步骤以及所有的日志生成操作\n",
    "            summary, _ = sess.run([merged, train_step], feed_dict={x: xs, y_: ys})\n",
    "            # 将所有日志写入文件\n",
    "            summary_writer.add_summary(summary, i)\n",
    "            \n",
    "    summary_writer.close()\n",
    "    \n",
    "if __name__ == '__main__':\n",
    "    tf.app.run()"
   ]
  },
  {
   "cell_type": "code",
   "execution_count": null,
   "metadata": {
    "collapsed": true
   },
   "outputs": [],
   "source": []
  },
  {
   "cell_type": "code",
   "execution_count": null,
   "metadata": {
    "collapsed": true
   },
   "outputs": [],
   "source": []
  },
  {
   "cell_type": "code",
   "execution_count": null,
   "metadata": {
    "collapsed": true
   },
   "outputs": [],
   "source": []
  }
 ],
 "metadata": {
  "kernelspec": {
   "display_name": "Python 2",
   "language": "python",
   "name": "python2"
  },
  "language_info": {
   "codemirror_mode": {
    "name": "ipython",
    "version": 2
   },
   "file_extension": ".py",
   "mimetype": "text/x-python",
   "name": "python",
   "nbconvert_exporter": "python",
   "pygments_lexer": "ipython2",
   "version": "2.7.10"
  }
 },
 "nbformat": 4,
 "nbformat_minor": 2
}

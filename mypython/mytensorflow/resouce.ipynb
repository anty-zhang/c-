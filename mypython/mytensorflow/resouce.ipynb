{
 "cells": [
  {
   "cell_type": "markdown",
   "metadata": {},
   "source": [
    "# 学习网址\n",
    "\n",
    "https://www.analyticsvidhya.com/blog/2015/09/ultimate-data-scientists-world-today/ （24 Ultimate Data Scientists To Follow in the World Today）\n",
    "\n",
    "https://www.coursera.org/learn/computational-neuroscience (Coursera新课：计算神经科学)\n"
   ]
  }
 ],
 "metadata": {
  "kernelspec": {
   "display_name": "Python 2",
   "language": "python",
   "name": "python2"
  },
  "language_info": {
   "codemirror_mode": {
    "name": "ipython",
    "version": 2
   },
   "file_extension": ".py",
   "mimetype": "text/x-python",
   "name": "python",
   "nbconvert_exporter": "python",
   "pygments_lexer": "ipython2",
   "version": "2.7.10"
  }
 },
 "nbformat": 4,
 "nbformat_minor": 2
}

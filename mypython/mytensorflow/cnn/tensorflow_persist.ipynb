{
 "cells": [
  {
   "cell_type": "markdown",
   "metadata": {},
   "source": [
    "# tensorflow模型持久化"
   ]
  },
  {
   "cell_type": "code",
   "execution_count": 2,
   "metadata": {
    "collapsed": false
   },
   "outputs": [
    {
     "name": "stdout",
     "output_type": "stream",
     "text": [
      "[ 3.]\n"
     ]
    }
   ],
   "source": [
    "###################################################################################################\n",
    "# 持久化模型实例\n",
    "import tensorflow as tf\n",
    "\n",
    "# 声明两个变量并计算它们的和\n",
    "v1 = tf.Variable(tf.constant(1.0, shape=[1]), name=\"v1\")\n",
    "v2 = tf.Variable(tf.constant(2.0, shape=[1]), name=\"v2\")\n",
    "\n",
    "result = v1 + v2\n",
    "\n",
    "init_op = tf.initialize_all_variables()\n",
    "# 声明tf.train.Saver类用于保存模型\n",
    "saver = tf.train.Saver()\n",
    "\n",
    "with tf.Session() as sess:\n",
    "    sess.run(init_op)\n",
    "    saver.save(sess, \"/Users/xxx/work5/tensorflow/tensormode/model.cpkt\")\n",
    "    print sess.run(result)\n"
   ]
  },
  {
   "cell_type": "code",
   "execution_count": 17,
   "metadata": {
    "collapsed": false
   },
   "outputs": [
    {
     "name": "stdout",
     "output_type": "stream",
     "text": [
      "[ 3.]\n"
     ]
    }
   ],
   "source": [
    "###################################################################################################\n",
    "# 加载持久化模型方式一： \n",
    "import tensorflow as tf\n",
    "\n",
    "# # 声明两个变量并计算它们的和\n",
    "v1 = tf.Variable(tf.constant(1.0, shape=[1]), name=\"other-v1\")\n",
    "v2 = tf.Variable(tf.constant(2.0, shape=[1]), name=\"other-v2\")\n",
    "result = v1 + v2\n",
    "\n",
    "saver = tf.train.Saver({\"v1\": v1, \"v2\": v2})\n",
    "\n",
    "with tf.Session() as sess: \n",
    "    saver.restore(sess, \"/Users/xxx/work5/tensorflow/tensormode/model.cpkt\")\n",
    "    print sess.run(result)\n"
   ]
  },
  {
   "cell_type": "code",
   "execution_count": 10,
   "metadata": {
    "collapsed": false
   },
   "outputs": [
    {
     "name": "stdout",
     "output_type": "stream",
     "text": [
      "[ 3.]\n"
     ]
    }
   ],
   "source": [
    "###################################################################################################\n",
    "# 加载持久化模型方式二： \n",
    "import tensorflow as tf\n",
    "\n",
    "saver = tf.train.import_meta_graph(\"/Users/xxx/work5/tensorflow/tensormode/model.cpkt.meta\")\n",
    "\n",
    "with tf.Session() as sess:\n",
    "    saver.restore(sess, \"/Users/xxx/work5/tensorflow/tensormode/model.cpkt\")\n",
    "    print sess.run(tf.get_default_graph().get_tensor_by_name(\"add:0\"))"
   ]
  },
  {
   "cell_type": "markdown",
   "metadata": {},
   "source": [
    "# 持久化---滑动平均模型"
   ]
  },
  {
   "cell_type": "code",
   "execution_count": 1,
   "metadata": {
    "collapsed": false
   },
   "outputs": [
    {
     "name": "stdout",
     "output_type": "stream",
     "text": [
      "v:0\n",
      "v:0\n",
      "v/ExponentialMovingAverage:0\n"
     ]
    }
   ],
   "source": [
    "###################################################################################################\n",
    "# \n",
    "import tensorflow as tf\n",
    "\n",
    "v = tf.Variable(0, dtype=tf.float32, name=\"v\")\n",
    "\n",
    "# 在没有声明滑动平均模型时只有一个变量v， 所以下面的语句只会输出“v:0”\n",
    "for variables in tf.all_variables():\n",
    "    print variables.name\n",
    "    \n",
    "ema = tf.train.ExponentialMovingAverage(0.99)\n",
    "maintain_average_op = ema.apply(tf.all_variables())\n",
    "\n",
    "# 在声明滑动平均模型之后，TensorFlow会自动生成一个影子变量\n",
    "\n",
    "for variables in tf.all_variables():\n",
    "    print variables.name\n",
    "    \n",
    "saver = tf.train.Saver()\n",
    "\n",
    "with tf.Session() as sess:\n",
    "    init_op = tf.initialize_all_variables()\n",
    "    sess.run(init_op)\n",
    "    sess.run(tf.assign(v, 10))\n",
    "    sess.run(maintain_average_op)\n",
    "    # 保存时，tensorflow会将v:0和v/ExponentialMovingAverage:0两个变量都保存下来\n",
    "    saver.save(sess, \"/Users/xxx/work5/tensorflow/tensormode/model_1.cpkt\")\n",
    "    \n"
   ]
  },
  {
   "cell_type": "code",
   "execution_count": 4,
   "metadata": {
    "collapsed": false
   },
   "outputs": [
    {
     "name": "stdout",
     "output_type": "stream",
     "text": [
      "0.0999999\n"
     ]
    }
   ],
   "source": [
    "###################################################################################################\n",
    "# 直接读取上面的变量的滑动平均值\n",
    "v = tf.Variable(0, dtype=tf.float32, name=\"v\")\n",
    "saver = tf.train.Saver({\"v/ExponentialMovingAverage\": v})\n",
    "\n",
    "with tf.Session() as sess:\n",
    "    saver.restore(sess, \"/Users/xxx/work5/tensorflow/tensormode/model_1.cpkt\")\n",
    "    print sess.run(v)    # 输出的值，即为原来模型中变量v的滑动平均值"
   ]
  },
  {
   "cell_type": "code",
   "execution_count": 1,
   "metadata": {
    "collapsed": false
   },
   "outputs": [
    {
     "name": "stdout",
     "output_type": "stream",
     "text": [
      "{u'v/ExponentialMovingAverage': <tensorflow.python.ops.variables.Variable object at 0x103158a50>}\n",
      "0.0999999\n"
     ]
    }
   ],
   "source": [
    "###################################################################################################\n",
    "# variables_to_restore函数来生成tf.Train.Saver类所需要的变量重命名字典\n",
    "\n",
    "import tensorflow as tf\n",
    "\n",
    "v = tf.Variable(0, dtype=tf.float32, name=\"v\")\n",
    "ema = tf.train.ExponentialMovingAverage(0.99)\n",
    "print ema.variables_to_restore()\n",
    "\n",
    "saver = tf.train.Saver(ema.variables_to_restore())\n",
    "with tf.Session() as sess:\n",
    "    saver.restore(sess, \"/Users/xxx/work5/tensorflow/tensormode/model_1.cpkt\")\n",
    "    print sess.run(v)\n"
   ]
  },
  {
   "cell_type": "code",
   "execution_count": 10,
   "metadata": {
    "collapsed": false
   },
   "outputs": [
    {
     "name": "stdout",
     "output_type": "stream",
     "text": [
      "Converted 2 variables to const ops.\n"
     ]
    }
   ],
   "source": [
    "###################################################################################################\n",
    "# tensorflow 通过convert_variables_to_constants将计算图中的变量及其取值通过常量的方式保存\n",
    "import tensorflow as tf\n",
    "from tensorflow.python.client import graph_util\n",
    "\n",
    "v1 = tf.Variable(tf.constant(1.0, shape=[1]), name=\"v1\")\n",
    "v2 = tf.Variable(tf.constant(2.0, shape=[1]), name=\"v2\")\n",
    "result = v1 + v2\n",
    "\n",
    "init_op = tf.initialize_all_variables()\n",
    "with tf.Session() as sess:\n",
    "    sess.run(init_op)\n",
    "    # 导出计算图的GraphDef部分，只需要这一部分就可以完成从输入层到输出层的计算过程\n",
    "    graph_def = tf.get_default_graph().as_graph_def()\n",
    "    \n",
    "    # 将图中的变量以及取值转化为常量，同时将图中不必要的节点去掉\n",
    "    # 参数[\"add“]给出了需要保存的节点名称。add节点时上面定义两个变量相加的操作\n",
    "    output_graph_def = graph_util.convert_variables_to_constants(sess, graph_def, ['add'])\n",
    "    \n",
    "    # 将导出的模型存入文件\n",
    "    with tf.gfile.GFile(\"/Users/xxx/work5/tensorflow/tensormode/combined_model.pb\", \"wb\") as f:\n",
    "        f.write(output_graph_def.SerializeToString())\n",
    "\n"
   ]
  },
  {
   "cell_type": "code",
   "execution_count": 3,
   "metadata": {
    "collapsed": false
   },
   "outputs": [
    {
     "name": "stdout",
     "output_type": "stream",
     "text": [
      "[array([ 3.], dtype=float32)]\n"
     ]
    }
   ],
   "source": [
    "###################################################################################################\n",
    "# 解析通过convert_variables_to_constants保存的模型\n",
    "import tensorflow as tf\n",
    "from tensorflow.python.platform import gfile\n",
    "\n",
    "with tf.Session() as sess:\n",
    "    model_filename = \"/Users/xxx/work5/tensorflow/tensormode/combined_model.pb\"\n",
    "    # 读取保存的模型，并将文件解析成对应的GraphDef Protocol Buffer\n",
    "    with gfile.FastGFile(model_filename, 'rb') as f:\n",
    "        graph_def = tf.GraphDef()\n",
    "        graph_def.ParseFromString(f.read())\n",
    "        \n",
    "    \n",
    "    # 将graph_def中国年的保存的图加载到当前的图中\n",
    "    # return_elements=[\"add:0\"]给出了返回张量的名称\n",
    "    # 保存的时候给出的计算节点的名称，所以为“add”， 在加载的时候给出的是张量add:0\n",
    "    result = tf.import_graph_def(graph_def, return_elements=[\"add:0\"])\n",
    "    print sess.run(result)\n",
    "    \n",
    "    "
   ]
  }
 ],
 "metadata": {
  "kernelspec": {
   "display_name": "Python 2",
   "language": "python",
   "name": "python2"
  },
  "language_info": {
   "codemirror_mode": {
    "name": "ipython",
    "version": 2
   },
   "file_extension": ".py",
   "mimetype": "text/x-python",
   "name": "python",
   "nbconvert_exporter": "python",
   "pygments_lexer": "ipython2",
   "version": "2.7.10"
  }
 },
 "nbformat": 4,
 "nbformat_minor": 2
}

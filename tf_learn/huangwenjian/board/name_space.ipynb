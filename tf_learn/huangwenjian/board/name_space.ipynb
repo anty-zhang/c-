{
 "cells": [
  {
   "cell_type": "code",
   "execution_count": 18,
   "metadata": {
    "collapsed": false
   },
   "outputs": [],
   "source": [
    "import tensorflow as tf\n",
    "\n",
    "input1 = tf.constant([1.0, 2.0, 3.0], name=\"input1\")\n",
    "input2 = tf.Variable(tf.random_uniform([3], name=\"input2\"))\n",
    "\n",
    "output = tf.add_n([input1, input2], name=\"add\")\n",
    "\n",
    "# 生成一个写日志的writer，将当前的TensorFlow计算图写入日志\n",
    "write = tf.train.SummaryWriter(\"/data/tmp/tensor_test.log\", tf.get_default_graph())\n",
    "write.close()\n"
   ]
  },
  {
   "cell_type": "markdown",
   "metadata": {},
   "source": [
    "# 命名空间\n",
    "\n",
    "> tf.variable_score和tf.name_scope函数提供来命名空间管理的功能，这个两个函数在大部分情况下是等价的，唯一的区别是在使用tf.get_variable函数时\n",
    "\n",
    "> 使用tf.Variable生成的变量会受到tf.name_scope的影响，而tf.get_variable生成的变量不会受到tf.name_scope的影响\n"
   ]
  },
  {
   "cell_type": "code",
   "execution_count": 2,
   "metadata": {
    "collapsed": false
   },
   "outputs": [
    {
     "name": "stdout",
     "output_type": "stream",
     "text": [
      "foo/bar:0\n",
      "===========\n",
      "bar/bar:0\n"
     ]
    }
   ],
   "source": [
    "import tensorflow as tf\n",
    "\n",
    "with tf.variable_scope(\"foo\"):\n",
    "    a = tf.get_variable(\"bar\", [1])\n",
    "    print a.name\n",
    "    \n",
    "print '==========='\n",
    "\n",
    "with tf.variable_scope(\"bar\"):\n",
    "    b = tf.get_variable(\"bar\", [1])\n",
    "    print b.name"
   ]
  },
  {
   "cell_type": "code",
   "execution_count": 3,
   "metadata": {
    "collapsed": false
   },
   "outputs": [
    {
     "name": "stdout",
     "output_type": "stream",
     "text": [
      "a/Variable:0\n",
      "==================\n",
      "b:0\n"
     ]
    }
   ],
   "source": [
    "with tf.name_scope(\"a\"):\n",
    "    # 使用tf.Variable 函数生成的变量会受tf.name_scope影响，于是这个变量的名称为 \"a/Variable\"\n",
    "    a = tf.Variable([1])\n",
    "    print a.name\n",
    "    print '=================='\n",
    "    a = tf.get_variable(\"b\", [1])\n",
    "    print a.name"
   ]
  },
  {
   "cell_type": "code",
   "execution_count": 4,
   "metadata": {
    "collapsed": true
   },
   "outputs": [],
   "source": [
    "# 使用命名空间来整理可视化效果图上的节点\n",
    "\n",
    "# 将输入定义放入各自的命名空间中，从而使得TensorBoard可以根据命名空间来整理可视化效果图上的节点\n",
    "with tf.name_scope('input1'):\n",
    "    input1 = tf.constant([1.0, 2.0, 3.0], name=\"input1\")\n",
    "\n",
    "with tf.name_scope(\"input2\"):\n",
    "    input2 = tf.Variable(tf.random_uniform([3]), name='input2')\n",
    "\n",
    "output = tf.add_n([input1, input2], name='add')\n",
    "\n",
    "writer = tf.train.SummaryWriter(\"/data/tmp/tensor_test.log\", tf.get_default_graph())\n",
    "writer.close()\n",
    "    "
   ]
  },
  {
   "cell_type": "code",
   "execution_count": null,
   "metadata": {
    "collapsed": true
   },
   "outputs": [],
   "source": []
  }
 ],
 "metadata": {
  "kernelspec": {
   "display_name": "Python 2",
   "language": "python",
   "name": "python2"
  },
  "language_info": {
   "codemirror_mode": {
    "name": "ipython",
    "version": 2
   },
   "file_extension": ".py",
   "mimetype": "text/x-python",
   "name": "python",
   "nbconvert_exporter": "python",
   "pygments_lexer": "ipython2",
   "version": "2.7.10"
  }
 },
 "nbformat": 4,
 "nbformat_minor": 2
}

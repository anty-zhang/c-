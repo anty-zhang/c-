{
 "cells": [
  {
   "cell_type": "markdown",
   "metadata": {},
   "source": [
    "# tf.gradients\n",
    "\n",
    "用来计算导数。该函数的定义如下所示\n",
    "\n",
    "def gradients(ys,\n",
    "              xs,\n",
    "              grad_ys=None,\n",
    "              name=\"gradients\",\n",
    "              colocate_gradients_with_ops=False,\n",
    "              gate_gradients=False,\n",
    "              aggregation_method=None):\n",
    "\n",
    "1\n",
    "\n",
    " \n",
    "\n",
    "虽然可选参数很多，但是最常使用的还是ys和xs。根据说明得知，ys和xs都可以是一个tensor或者tensor列表。而计算完成以后，该函数会返回一个长为len(xs)的tensor列表，列表中的每个tensor是ys中每个值对xs[i]求导之和。如果用数学公式表示的话，那么 g = tf.gradients(y,x)可以表示成 \n",
    "gi=∑j=0len(y)∂yj∂xig=[g0,g1,...,glen(x)]"
   ]
  },
  {
   "cell_type": "code",
   "execution_count": 15,
   "metadata": {
    "collapsed": false
   },
   "outputs": [
    {
     "name": "stdout",
     "output_type": "stream",
     "text": [
      "[array([[2, 1]], dtype=int32)]\n"
     ]
    }
   ],
   "source": [
    "\n",
    "import tensorflow as tf\n",
    "\n",
    "g = tf.Graph()\n",
    "\n",
    "with g.as_default():\n",
    "\n",
    "    w1 = tf.Variable([[1,2]])\n",
    "    w2 = tf.Variable([[3,4]])\n",
    "\n",
    "    res = tf.matmul(w1, [[2],[1]])\n",
    "\n",
    "    grads = tf.gradients(res,[w1])\n",
    "\n",
    "    with tf.Session(graph=g) as sess:\n",
    "        tf.initialize_all_variables().run()\n",
    "        re = sess.run(grads)\n",
    "        print(re)\n",
    "    #  [array([[2, 1]], dtype=int32)]\n",
    "\n",
    "\n"
   ]
  },
  {
   "cell_type": "code",
   "execution_count": 14,
   "metadata": {
    "collapsed": false
   },
   "outputs": [
    {
     "name": "stdout",
     "output_type": "stream",
     "text": [
      "[array([ 2.,  2.,  3.], dtype=float32), array([ 2.,  2.,  3.], dtype=float32), array([ 5.,  4.,  7.], dtype=float32), array([ 3.,  2.,  4.], dtype=float32)]\n"
     ]
    }
   ],
   "source": [
    "import tensorflow as tf\n",
    "\n",
    "g1 = tf.Graph()\n",
    "with g1.as_default():\n",
    "    w1 = tf.get_variable('w1', shape=[3])\n",
    "    w2 = tf.get_variable('w2', shape=[3])\n",
    "\n",
    "    w3 = tf.get_variable('w3', shape=[3])\n",
    "    w4 = tf.get_variable('w4', shape=[3])\n",
    "\n",
    "    z1 = w1 + w2+ w3\n",
    "    z2 = w3 + w4\n",
    "\n",
    "    grads = tf.gradients([z1, z2], [w1, w2, w3, w4], grad_ys=[tf.convert_to_tensor([2.,2.,3.]),\n",
    "                                                              tf.convert_to_tensor([3.,2.,4.])])\n",
    "\n",
    "    with tf.Session(graph=g1) as sess:\n",
    "        tf.initialize_all_variables().run()\n",
    "        print(sess.run(grads))"
   ]
  },
  {
   "cell_type": "code",
   "execution_count": null,
   "metadata": {
    "collapsed": true
   },
   "outputs": [],
   "source": []
  }
 ],
 "metadata": {
  "kernelspec": {
   "display_name": "Python 2",
   "language": "python",
   "name": "python2"
  },
  "language_info": {
   "codemirror_mode": {
    "name": "ipython",
    "version": 2
   },
   "file_extension": ".py",
   "mimetype": "text/x-python",
   "name": "python",
   "nbconvert_exporter": "python",
   "pygments_lexer": "ipython2",
   "version": "2.7.10"
  }
 },
 "nbformat": 4,
 "nbformat_minor": 2
}

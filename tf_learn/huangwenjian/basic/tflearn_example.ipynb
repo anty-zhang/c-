{
 "cells": [
  {
   "cell_type": "code",
   "execution_count": 9,
   "metadata": {
    "collapsed": false
   },
   "outputs": [
    {
     "name": "stdout",
     "output_type": "stream",
     "text": [
      "Accuracy: 96.67%\n"
     ]
    }
   ],
   "source": [
    "# 使用TFLearn自定义模型\n",
    "\n",
    "from sklearn import cross_validation\n",
    "from sklearn import datasets\n",
    "from sklearn import metrics\n",
    "\n",
    "import tensorflow as tf\n",
    "\n",
    "# 导入TFLearn\n",
    "learn = tf.contrib.learn\n",
    "\n",
    "# 自定义模型\n",
    "# 对于给定的输入数据（features）以及对应的正确答案（target），返回这些输入上的预测值、损失函数以及训练步骤\n",
    "def my_model(features, target):\n",
    "    # 将预测值的目标转换为one－hot编码的形式，因为共有三个类别，所以向量长度为3\n",
    "    # 第一个类别表示为(1, 0, 0)，第二个类别(0, 1, 0)，第三个类别(0, 0, 1)\n",
    "    target = tf.one_hot(target, 3, 1, 0)\n",
    "    \n",
    "    # 定义模型以及在给定数据上的损失函数\n",
    "    # TFLearn通过logistic_regression封装了一个单层的全连接神经网络\n",
    "    logits, loss = learn.models.logistic_regression(features, target)\n",
    "    \n",
    "    # 创建模型的优化器，并得到优化步骤\n",
    "    # TODO 需要记住此优化器\n",
    "    train_op = tf.contrib.layers.optimize_loss(\n",
    "        loss,  # 损失函数\n",
    "        tf.contrib.framework.get_global_step(),    # 获取训练步数并在训练时更新\n",
    "        optimizer = 'Adagrad',       # 定义优化器\n",
    "        learning_rate = 0.1          # 定义学习率\n",
    "    )\n",
    "    \n",
    "    #  返回给定数据上的预测结果，损失值以及优化步骤\n",
    "    return tf.arg_max(logits, 1), loss, train_op\n",
    "\n",
    "\n",
    "# 加载iris 数据集，并划分训练集和测试集合\n",
    "iris = datasets.load_iris()\n",
    "x_train, x_test, y_train, y_test = cross_validation.train_test_split(iris.data, iris.target, test_size=0.2, random_state=0)\n",
    "\n",
    "# 对自定义的模型进行封装\n",
    "classifier = learn.Estimator(model_fn=my_model)\n",
    "\n",
    "# 使用封装好的模型和训练数据执行100轮迭代\n",
    "classifier.fit(x_train, y_train, steps=200)\n",
    "\n",
    "# 使用训练好的模型进行结果预测\n",
    "Y_predicted = classifier.predict(x_test)\n",
    "\n",
    "# 计算模型的准确度\n",
    "score = metrics.accuracy_score(y_test, Y_predicted)\n",
    "print \"Accuracy: %.2f%%\" %(score * 100)\n",
    "  \n"
   ]
  }
 ],
 "metadata": {
  "kernelspec": {
   "display_name": "Python 2",
   "language": "python",
   "name": "python2"
  },
  "language_info": {
   "codemirror_mode": {
    "name": "ipython",
    "version": 2
   },
   "file_extension": ".py",
   "mimetype": "text/x-python",
   "name": "python",
   "nbconvert_exporter": "python",
   "pygments_lexer": "ipython2",
   "version": "2.7.10"
  }
 },
 "nbformat": 4,
 "nbformat_minor": 0
}

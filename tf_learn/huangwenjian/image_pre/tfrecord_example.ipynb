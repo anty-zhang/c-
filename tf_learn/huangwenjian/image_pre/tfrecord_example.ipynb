{
 "cells": [
  {
   "cell_type": "code",
   "execution_count": 2,
   "metadata": {
    "collapsed": false
   },
   "outputs": [],
   "source": [
    "import tensorflow as tf\n",
    "import numpy as np\n",
    "from tensorflow.examples.tutorials.mnist import input_data"
   ]
  },
  {
   "cell_type": "code",
   "execution_count": 3,
   "metadata": {
    "collapsed": false
   },
   "outputs": [
    {
     "name": "stdout",
     "output_type": "stream",
     "text": [
      "Extracting /Users/xxx/work5/tensorflow/tensorflow-tutorial/Deep_Learning_with_TensorFlow/datasets/MNIST_data/train-images-idx3-ubyte.gz\n",
      "Extracting /Users/xxx/work5/tensorflow/tensorflow-tutorial/Deep_Learning_with_TensorFlow/datasets/MNIST_data/train-labels-idx1-ubyte.gz\n",
      "Extracting /Users/xxx/work5/tensorflow/tensorflow-tutorial/Deep_Learning_with_TensorFlow/datasets/MNIST_data/t10k-images-idx3-ubyte.gz\n",
      "Extracting /Users/xxx/work5/tensorflow/tensorflow-tutorial/Deep_Learning_with_TensorFlow/datasets/MNIST_data/t10k-labels-idx1-ubyte.gz\n",
      "[[0 0 0 ..., 0 0 0]\n",
      " [0 0 0 ..., 0 0 0]\n",
      " [0 0 0 ..., 0 0 0]\n",
      " ..., \n",
      " [0 0 0 ..., 0 0 0]\n",
      " [0 0 0 ..., 0 0 0]\n",
      " [0 0 0 ..., 0 0 0]]\n",
      "[[ 0.  0.  0. ...,  1.  0.  0.]\n",
      " [ 0.  0.  0. ...,  0.  0.  0.]\n",
      " [ 0.  0.  0. ...,  0.  0.  0.]\n",
      " ..., \n",
      " [ 0.  0.  0. ...,  0.  0.  0.]\n",
      " [ 0.  0.  0. ...,  0.  0.  0.]\n",
      " [ 0.  0.  0. ...,  0.  1.  0.]]\n",
      "(55000, 784)\n",
      "55000\n"
     ]
    }
   ],
   "source": [
    "# 读取mnist数据\n",
    "mnist = input_data.read_data_sets(\"/Users/xxx/work5/tensorflow/tensorflow-tutorial/Deep_Learning_with_TensorFlow/datasets/MNIST_data\", dtype=tf.uint8, one_hot=True)\n",
    "images = mnist.train.images\n",
    "labels = mnist.train.labels\n",
    "\n",
    "pixels = images.shape[1]\n",
    "num_examples = mnist.train.num_examples\n",
    "print images\n",
    "print labels\n",
    "print images.shape\n",
    "print num_examples"
   ]
  },
  {
   "cell_type": "code",
   "execution_count": 4,
   "metadata": {
    "collapsed": false
   },
   "outputs": [
    {
     "name": "stdout",
     "output_type": "stream",
     "text": [
      "save success\n"
     ]
    }
   ],
   "source": [
    "# 将输入转化成TFRecord格式并保存\n",
    "\n",
    "# 定义函数转化变量类型\n",
    "# 生成整数型的属性\n",
    "def _int64_feature(value):\n",
    "    return tf.train.Feature(int64_list=tf.train.Int64List(value=[value]))\n",
    "# 生成字符串型的属性\n",
    "def _bytes_feature(value):\n",
    "    return tf.train.Feature(bytes_list=tf.train.BytesList(value=[value]))\n",
    "\n",
    "# 输出TFRecord文件的地址\n",
    "filename = \"./output.tfrecords\"\n",
    "# 创建一个writer来写TFRecord文件\n",
    "writer = tf.python_io.TFRecordWriter(filename)\n",
    "\n",
    "for index in range(num_examples):\n",
    "    # 将图像矩阵转化成一个字符串\n",
    "    image_raw = images[index].tostring()\n",
    "    \n",
    "    # 将一个样例转化为Example Protocol Buffer，并将所有的信息写入这个数据结构\n",
    "    example = tf.train.Example(features=tf.train.Features(feature={\n",
    "                'pixels': _int64_feature(pixels),\n",
    "                'label': _int64_feature(np.argmax(labels[index])),\n",
    "                'image_raw': _bytes_feature(image_raw)\n",
    "            }))\n",
    "    \n",
    "    # 将一个Example写入TFRecord文件\n",
    "    writer.write(example.SerializeToString())\n",
    "\n",
    "\n",
    "writer.close()\n",
    "\n",
    "print \"save success\""
   ]
  },
  {
   "cell_type": "code",
   "execution_count": null,
   "metadata": {
    "collapsed": false
   },
   "outputs": [],
   "source": [
    "# tf 读取tfrecord数据\n",
    "\n",
    "# 创建一个reader来读取TFRecord文件中的样例\n",
    "reader = tf.TFRecordReader()\n",
    "\n",
    "# 创建一个队列来维护输入文件的列表\n",
    "filename_queue = tf.train.string_input_producer(['./output.tfrecords'])\n",
    "\n",
    "# 从文件中国年读取一个样例\n",
    "# read_up_to函数一次性读取多个样例\n",
    "_, serialized_example = reader.read(filename_queue)\n",
    "\n",
    "# 解析读入的一个样例\n",
    "# parse_example解析多个样例\n",
    "features = tf.parse_single_example(\n",
    "    serialized_example,\n",
    "    # Tensorflow 提供了两种不同的属性解析方法\n",
    "    # tf.FixedLenFeature，解析的结果为一个Tensor\n",
    "    # tf.VarLenFeature，解析的结果为SparseTensor，用于处理稀疏矩阵\n",
    "    # 解析数据的格式需要和上面写入的数据格式一致\n",
    "    features={\n",
    "        'pixels': tf.FixedLenFeature([], tf.int64),\n",
    "        'label': tf.FixedLenFeature([], tf.int64),\n",
    "        'image_raw': tf.FixedLenFeature([], tf.string)\n",
    "    }\n",
    ")\n",
    "\n",
    "# tf.decode_raw将字符串解析成图像对应的像素数组\n",
    "images = tf.decode_raw(features['image_raw'], tf.uint8)\n",
    "labels = tf.cast(features['label'], tf.int32)\n",
    "pixels = tf.cast(features['pixels'], tf.int32)\n",
    "\n",
    "with tf.Session() as sess:\n",
    "    # 启动多线程处理输入数据\n",
    "    coord = tf.train.Coordinator()\n",
    "    threads = tf.train.start_queue_runners(sess=sess, coord=coord)\n",
    "    \n",
    "    print \"threads: \", threads\n",
    "    \n",
    "    # 每次运行可以读取TFRecord文件中的一个样例\n",
    "    # 当所有样例都读完之后，在此样例中程序会在重头读取\n",
    "    for i in range(10):\n",
    "        image, label, pixel = sess.run([images, labels, pixels])\n",
    "        print image\n",
    "\n",
    "print \"end\""
   ]
  },
  {
   "cell_type": "code",
   "execution_count": null,
   "metadata": {
    "collapsed": true
   },
   "outputs": [],
   "source": []
  }
 ],
 "metadata": {
  "kernelspec": {
   "display_name": "Python 2",
   "language": "python",
   "name": "python2"
  },
  "language_info": {
   "codemirror_mode": {
    "name": "ipython",
    "version": 2
   },
   "file_extension": ".py",
   "mimetype": "text/x-python",
   "name": "python",
   "nbconvert_exporter": "python",
   "pygments_lexer": "ipython2",
   "version": "2.7.10"
  }
 },
 "nbformat": 4,
 "nbformat_minor": 0
}
